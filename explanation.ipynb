{
 "cells": [
  {
   "cell_type": "markdown",
   "metadata": {},
   "source": [
    "# Inheritance vs Instantiation"
   ]
  },
  {
   "cell_type": "code",
   "execution_count": 1,
   "metadata": {},
   "outputs": [],
   "source": [
    "from __future__ import annotations\n",
    "from typing import Any"
   ]
  },
  {
   "cell_type": "code",
   "execution_count": 2,
   "metadata": {},
   "outputs": [],
   "source": [
    "def visualise_type(arg1:Any, default:str=...) -> None:\n",
    "\tif arg1 is type:\n",
    "\t\tprint(f'{arg1.__name__}')\n",
    "\t\treturn\n",
    "\n",
    "\ttry:\n",
    "\t\tname = arg1.__name__\n",
    "\texcept AttributeError:\n",
    "\t\tname = default if default is not ... else arg1\n",
    "\n",
    "\tprint(f'{name}  --t->  ', end='')\n",
    "\tvisualise_type(type(arg1))"
   ]
  },
  {
   "cell_type": "code",
   "execution_count": 3,
   "metadata": {},
   "outputs": [],
   "source": [
    "def visualise_base(arg1:Any, default:str=...) -> None:\n",
    "\tif arg1 is object:\n",
    "\t\tprint(f'{arg1.__name__}')\n",
    "\t\treturn\n",
    "\t\n",
    "\ttry:\n",
    "\t\tname = arg1.__name__\n",
    "\texcept AttributeError:\n",
    "\t\tname = default if default is not ... else arg1\n",
    "\n",
    "\tprint(f'{name}  --b->  ', end='')\n",
    "\tvisualise_base(arg1.__base__)"
   ]
  },
  {
   "cell_type": "markdown",
   "metadata": {},
   "source": [
    "python3 rules:\n",
    "- all classes are instances of `type`\n",
    "- all classes inherit from `object`\n",
    "- literally every<u>thing</u> is an `object`\n",
    "- literally every<u>thing</u> has a `type`\n",
    "- `type.__base__` is `object`\n",
    "- `object.__base__` is `None`\n",
    "- `type(object)` is `type`\n",
    "- `type(type)` is `type`"
   ]
  },
  {
   "attachments": {},
   "cell_type": "markdown",
   "metadata": {},
   "source": [
    "## Example 1 - types vs bases"
   ]
  },
  {
   "cell_type": "code",
   "execution_count": 4,
   "metadata": {},
   "outputs": [
    {
     "name": "stdout",
     "output_type": "stream",
     "text": [
      "0  --t->  int  --t->  type\n",
      "int  --b->  object\n"
     ]
    }
   ],
   "source": [
    "int             # instance of type\n",
    "                # subclass of object\n",
    "\n",
    "zero = int()    # instance of int\n",
    "\n",
    "visualise_type(zero)\n",
    "visualise_base(int)"
   ]
  },
  {
   "cell_type": "code",
   "execution_count": 5,
   "metadata": {},
   "outputs": [
    {
     "name": "stdout",
     "output_type": "stream",
     "text": [
      "f  --t->  function  --t->  type\n",
      "function  --b->  object\n"
     ]
    }
   ],
   "source": [
    "def f(): ...\n",
    "visualise_type(f)\n",
    "visualise_base(type(f))"
   ]
  },
  {
   "cell_type": "markdown",
   "metadata": {},
   "source": [
    "## Example 2.1 - instantiation"
   ]
  },
  {
   "cell_type": "code",
   "execution_count": 6,
   "metadata": {},
   "outputs": [
    {
     "name": "stdout",
     "output_type": "stream",
     "text": [
      "simon  --t->  Person  --t->  type\n",
      "Person  --b->  object\n"
     ]
    }
   ],
   "source": [
    "class Person: ...   # Person instantiates type\n",
    "simon = Person()    # simon instantiates Person\n",
    "\n",
    "visualise_type(simon, 'simon')\n",
    "visualise_base(Person)"
   ]
  },
  {
   "cell_type": "markdown",
   "metadata": {},
   "source": [
    "the above is the same as below"
   ]
  },
  {
   "cell_type": "code",
   "execution_count": 7,
   "metadata": {},
   "outputs": [
    {
     "name": "stdout",
     "output_type": "stream",
     "text": [
      "simon  --t->  Person  --t->  type\n",
      "Person  --b->  object\n"
     ]
    }
   ],
   "source": [
    "Person = type('Person', (), {}) # Person instantiates type\n",
    "simon = Person()                # simon instantiates Person\n",
    "\n",
    "visualise_type(simon, 'simon')\n",
    "visualise_base(Person)"
   ]
  },
  {
   "cell_type": "markdown",
   "metadata": {},
   "source": [
    "## Example 2.2 - inheritance"
   ]
  },
  {
   "cell_type": "code",
   "execution_count": 8,
   "metadata": {},
   "outputs": [
    {
     "name": "stdout",
     "output_type": "stream",
     "text": [
      "simon  --t->  Boy  --t->  type\n",
      "grace  --t->  Person  --t->  type\n",
      "Boy  --b->  Person  --b->  object\n"
     ]
    }
   ],
   "source": [
    "class Person: ...       # Person instantiates type\n",
    "grace = Person()        # grace instantiates Person\n",
    "\n",
    "class Boy(Person): ...  # Boy inherits from Person\n",
    "simon = Boy()           # simon instantiates Boy\n",
    "\n",
    "visualise_type(simon, 'simon')\n",
    "visualise_type(grace, 'grace')\n",
    "visualise_base(Boy)"
   ]
  },
  {
   "cell_type": "markdown",
   "metadata": {},
   "source": [
    "the above is the same as below"
   ]
  },
  {
   "cell_type": "code",
   "execution_count": 9,
   "metadata": {},
   "outputs": [
    {
     "name": "stdout",
     "output_type": "stream",
     "text": [
      "simon  --t->  Boy  --t->  type\n",
      "grace  --t->  Person  --t->  type\n",
      "Boy  --b->  Person  --b->  object\n"
     ]
    }
   ],
   "source": [
    "Person = type('Person', (), {})\n",
    "grace  = Person()   # grace instantiates Person\n",
    "\n",
    "Boy = type('Boy', (Person,), {}) # Boy inherits from Person\n",
    "simon = Boy()       # simon instantiates Boy\n",
    "\n",
    "visualise_type(simon, 'simon')\n",
    "visualise_type(grace, 'grace')\n",
    "visualise_base(Boy)"
   ]
  },
  {
   "cell_type": "markdown",
   "metadata": {},
   "source": [
    "# Example 3.1 - metaclasses"
   ]
  },
  {
   "cell_type": "code",
   "execution_count": 10,
   "metadata": {},
   "outputs": [
    {
     "name": "stdout",
     "output_type": "stream",
     "text": [
      "instance  --t->  Class1  --t->  meta1  --t->  type\n",
      "meta1  --b->  type  --b->  object\n",
      "Class1  --b->  object\n"
     ]
    }
   ],
   "source": [
    "class meta1(type): ...\n",
    "class Class1(metaclass=meta1): ...\n",
    "instance = Class1()\n",
    "\n",
    "visualise_type(instance, 'instance')\n",
    "visualise_base(meta1)\n",
    "visualise_base(Class1)"
   ]
  },
  {
   "attachments": {},
   "cell_type": "markdown",
   "metadata": {},
   "source": [
    "the above is the same as below"
   ]
  },
  {
   "cell_type": "code",
   "execution_count": 11,
   "metadata": {},
   "outputs": [
    {
     "name": "stdout",
     "output_type": "stream",
     "text": [
      "instance  --t->  Class1  --t->  meta1  --t->  type\n",
      "meta1  --b->  type  --b->  object\n",
      "Class1  --b->  object\n"
     ]
    }
   ],
   "source": [
    "meta1 = type('meta1', (type,), {})\n",
    "Class1 = meta1('Class1', (), {})\n",
    "instance = Class1()\n",
    "\n",
    "visualise_type(instance, 'instance')\n",
    "visualise_base(meta1)\n",
    "visualise_base(Class1)"
   ]
  },
  {
   "attachments": {},
   "cell_type": "markdown",
   "metadata": {},
   "source": [
    "an example from python's built-in `enum` library:"
   ]
  },
  {
   "cell_type": "code",
   "execution_count": 12,
   "metadata": {},
   "outputs": [
    {
     "name": "stdout",
     "output_type": "stream",
     "text": [
      "Enum  --t->  EnumMeta  --t->  type\n",
      "EnumMeta  --b->  type  --b->  object\n",
      "Enum  --b->  object\n"
     ]
    }
   ],
   "source": [
    "from enum import Enum, EnumMeta\n",
    "\n",
    "visualise_type(Enum)\n",
    "visualise_base(EnumMeta)\n",
    "visualise_base(Enum)"
   ]
  },
  {
   "cell_type": "markdown",
   "metadata": {},
   "source": [
    "## Example 3.2 - meta-metaclass"
   ]
  },
  {
   "cell_type": "code",
   "execution_count": 13,
   "metadata": {},
   "outputs": [
    {
     "name": "stdout",
     "output_type": "stream",
     "text": [
      "instance  --t->  Class1  --t->  meta2  --t->  meta1  --t->  type\n",
      "meta1  --b->  type  --b->  object\n",
      "meta2  --b->  type  --b->  object\n",
      "Class1  --b->  object\n"
     ]
    }
   ],
   "source": [
    "class meta1(type): ...\n",
    "class meta2(type, metaclass=meta1): ...\n",
    "class Class1(metaclass=meta2): ...\n",
    "instance = Class1()\n",
    "\n",
    "visualise_type(instance, 'instance')\n",
    "visualise_base(meta1)\n",
    "visualise_base(meta2)\n",
    "visualise_base(Class1)"
   ]
  },
  {
   "attachments": {},
   "cell_type": "markdown",
   "metadata": {},
   "source": [
    "the above is the same as below"
   ]
  },
  {
   "cell_type": "code",
   "execution_count": 14,
   "metadata": {},
   "outputs": [
    {
     "name": "stdout",
     "output_type": "stream",
     "text": [
      "instance  --t->  Class1  --t->  meta2  --t->  meta1  --t->  type\n",
      "meta1  --b->  type  --b->  object\n",
      "meta2  --b->  type  --b->  object\n",
      "Class1  --b->  object\n"
     ]
    }
   ],
   "source": [
    "meta1 = type('meta1', (type,), {})\n",
    "meta2 = meta1('meta2', (type,), {})\n",
    "Class1 = meta2('Class1', (), {})\n",
    "instance = Class1() # type: ignore\n",
    "\n",
    "visualise_type(instance, 'instance')\n",
    "visualise_base(meta1)\n",
    "visualise_base(meta2)\n",
    "visualise_base(Class1)"
   ]
  },
  {
   "attachments": {},
   "cell_type": "markdown",
   "metadata": {},
   "source": [
    "## Example 4 - lifehacks.metaclasses"
   ]
  },
  {
   "cell_type": "code",
   "execution_count": 15,
   "metadata": {},
   "outputs": [
    {
     "name": "stdout",
     "output_type": "stream",
     "text": [
      "instance  --t->  Class1  --t->  meta2  --t->  meta  --t->  meta  --t->  type\n",
      "meta  --b->  type  --b->  object\n",
      "meta2  --b->  type  --b->  object\n",
      "Class1  --b->  object\n"
     ]
    }
   ],
   "source": [
    "from lifehacks.metaclasses import meta\n",
    "\n",
    "@meta\n",
    "class meta2(type): ...\n",
    "\n",
    "@meta2\n",
    "class Class1: ...\n",
    "\n",
    "instance = Class1()\n",
    "\n",
    "visualise_type(instance, 'instance')\n",
    "visualise_base(meta)\n",
    "visualise_base(meta2)\n",
    "visualise_base(Class1)"
   ]
  },
  {
   "cell_type": "code",
   "execution_count": 16,
   "metadata": {},
   "outputs": [
    {
     "name": "stdout",
     "output_type": "stream",
     "text": [
      "Palette  --t->  enum  --t->  meta  --t->  meta  --t->  type\n",
      "meta  --b->  type  --b->  object\n",
      "enum  --b->  type  --b->  object\n"
     ]
    }
   ],
   "source": [
    "from lifehacks.metaclasses import enum, meta\n",
    "\n",
    "@enum\n",
    "class Palette: ...\n",
    "\n",
    "visualise_type(Palette)\n",
    "visualise_base(meta)\n",
    "visualise_base(enum)"
   ]
  },
  {
   "cell_type": "markdown",
   "metadata": {},
   "source": [
    "# .\n",
    "\n",
    ".\n",
    "\n",
    ".\n",
    "\n",
    ".\n"
   ]
  }
 ],
 "metadata": {
  "kernelspec": {
   "display_name": "Python 3.8.9 64-bit",
   "language": "python",
   "name": "python3"
  },
  "language_info": {
   "codemirror_mode": {
    "name": "ipython",
    "version": 3
   },
   "file_extension": ".py",
   "mimetype": "text/x-python",
   "name": "python",
   "nbconvert_exporter": "python",
   "pygments_lexer": "ipython3",
   "version": "3.9.6"
  },
  "orig_nbformat": 4,
  "vscode": {
   "interpreter": {
    "hash": "31f2aee4e71d21fbe5cf8b01ff0e069b9275f58929596ceb00d14d90e3e16cd6"
   }
  }
 },
 "nbformat": 4,
 "nbformat_minor": 2
}
